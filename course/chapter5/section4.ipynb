{
  "cells": [
    {
      "cell_type": "markdown",
      "metadata": {
        "id": "view-in-github",
        "colab_type": "text"
      },
      "source": [
        "<a href=\"https://colab.research.google.com/github/Zarasim/LLM_projects/blob/main/course/chapter5/section4.ipynb\" target=\"_parent\"><img src=\"https://colab.research.google.com/assets/colab-badge.svg\" alt=\"Open In Colab\"/></a>"
      ]
    },
    {
      "cell_type": "markdown",
      "metadata": {
        "id": "_IILQoL3gE8Z"
      },
      "source": [
        "# Big data? 🤗 Datasets to the rescue!"
      ]
    },
    {
      "cell_type": "code",
      "source": [
        "from datasets import load_dataset"
      ],
      "metadata": {
        "id": "3ssEb3llnptf"
      },
      "execution_count": 1,
      "outputs": []
    },
    {
      "cell_type": "markdown",
      "metadata": {
        "id": "ChcKcspagE8a"
      },
      "source": [
        "Install the Transformers, Datasets, and Evaluate libraries to run this notebook."
      ]
    },
    {
      "cell_type": "code",
      "source": [
        "# train split is automatically set to true\n",
        "dataset = load_dataset(\"oscar\", \"unshuffled_deduplicated_af\",split=\"train\",streaming=True,trust_remote_code=True)"
      ],
      "metadata": {
        "id": "Wy2F1eynp5od"
      },
      "execution_count": 20,
      "outputs": []
    },
    {
      "cell_type": "code",
      "execution_count": 21,
      "metadata": {
        "id": "h9fhSMOYgE8f",
        "outputId": "2d06ab62-318a-41f0-aa61-9c569c491cec",
        "colab": {
          "base_uri": "https://localhost:8080/"
        }
      },
      "outputs": [
        {
          "output_type": "stream",
          "name": "stdout",
          "text": [
            "RAM used: 675.41 MB\n"
          ]
        }
      ],
      "source": [
        "import psutil\n",
        "\n",
        "# Process.memory_info is expressed in bytes, so convert to megabytes\n",
        "print(f\"RAM used: {psutil.Process().memory_info().rss / (1024 * 1024):.2f} MB\")"
      ]
    },
    {
      "cell_type": "code",
      "source": [
        "dataset"
      ],
      "metadata": {
        "id": "MpxPPbzPqX5L",
        "outputId": "5c6bb031-9edf-4055-ce8c-90fc7b9f9356",
        "colab": {
          "base_uri": "https://localhost:8080/"
        }
      },
      "execution_count": 24,
      "outputs": [
        {
          "output_type": "execute_result",
          "data": {
            "text/plain": [
              "IterableDataset({\n",
              "    features: ['id', 'text'],\n",
              "    n_shards: 1\n",
              "})"
            ]
          },
          "metadata": {},
          "execution_count": 24
        }
      ]
    },
    {
      "cell_type": "code",
      "execution_count": 26,
      "metadata": {
        "id": "6pUFpDp4gE8m",
        "outputId": "019a96f5-bc66-45d6-9f58-e28440112e8a",
        "colab": {
          "base_uri": "https://localhost:8080/"
        }
      },
      "outputs": [
        {
          "output_type": "execute_result",
          "data": {
            "text/plain": [
              "{'id': 0,\n",
              " 'text': \"aanlyn markte as gevolg van ons voortgesette 'n begrip opsie handel sakeplan pdf terwyl ons steeds die gereelde ons binêre opsies handel\"}"
            ]
          },
          "metadata": {},
          "execution_count": 26
        }
      ],
      "source": [
        "next(iter(dataset))"
      ]
    },
    {
      "cell_type": "code",
      "source": [
        "# Cannot access directly sample in streaming mode\n",
        "#dataset[\"train\"][0]"
      ],
      "metadata": {
        "id": "AWdL4sAhqyXg"
      },
      "execution_count": 18,
      "outputs": []
    },
    {
      "cell_type": "markdown",
      "source": [
        "The elements from a streamed dataset can be processed on the fly using IterableDataset.map(), which is useful during training if you need to tokenize the inputs. The process is exactly the same as the one we used to tokenize our dataset in Chapter 3, with the only difference being that outputs are returned one by one:"
      ],
      "metadata": {
        "id": "UtsK2KtQrWIN"
      }
    },
    {
      "cell_type": "code",
      "source": [
        "from transformers import AutoTokenizer\n",
        "\n",
        "tokenizer = AutoTokenizer.from_pretrained(\"almanach/camembert-base\")\n",
        "tokenized_dataset = dataset.map(lambda x: tokenizer(x[\"text\"]))\n",
        "next(iter(tokenized_dataset))"
      ],
      "metadata": {
        "id": "fMWGn7XmpJk7",
        "outputId": "acddf4d5-f8c6-4652-b3e6-420e652f97c4",
        "colab": {
          "base_uri": "https://localhost:8080/"
        }
      },
      "execution_count": 27,
      "outputs": [
        {
          "output_type": "execute_result",
          "data": {
            "text/plain": [
              "{'id': 0,\n",
              " 'text': \"aanlyn markte as gevolg van ons voortgesette 'n begrip opsie handel sakeplan pdf terwyl ons steeds die gereelde ons binêre opsies handel\",\n",
              " 'input_ids': [5,\n",
              "  33,\n",
              "  364,\n",
              "  23908,\n",
              "  21,\n",
              "  10963,\n",
              "  487,\n",
              "  33,\n",
              "  10,\n",
              "  6844,\n",
              "  4821,\n",
              "  383,\n",
              "  5770,\n",
              "  91,\n",
              "  10,\n",
              "  7316,\n",
              "  8607,\n",
              "  5697,\n",
              "  1606,\n",
              "  21,\n",
              "  11,\n",
              "  255,\n",
              "  2446,\n",
              "  15961,\n",
              "  4134,\n",
              "  6634,\n",
              "  22870,\n",
              "  647,\n",
              "  77,\n",
              "  2332,\n",
              "  5295,\n",
              "  9650,\n",
              "  18319,\n",
              "  640,\n",
              "  4034,\n",
              "  91,\n",
              "  10,\n",
              "  16590,\n",
              "  816,\n",
              "  10,\n",
              "  18,\n",
              "  521,\n",
              "  11488,\n",
              "  35,\n",
              "  647,\n",
              "  234,\n",
              "  91,\n",
              "  10,\n",
              "  16445,\n",
              "  3355,\n",
              "  346,\n",
              "  4134,\n",
              "  10,\n",
              "  2364,\n",
              "  22870,\n",
              "  647,\n",
              "  6],\n",
              " 'attention_mask': [1,\n",
              "  1,\n",
              "  1,\n",
              "  1,\n",
              "  1,\n",
              "  1,\n",
              "  1,\n",
              "  1,\n",
              "  1,\n",
              "  1,\n",
              "  1,\n",
              "  1,\n",
              "  1,\n",
              "  1,\n",
              "  1,\n",
              "  1,\n",
              "  1,\n",
              "  1,\n",
              "  1,\n",
              "  1,\n",
              "  1,\n",
              "  1,\n",
              "  1,\n",
              "  1,\n",
              "  1,\n",
              "  1,\n",
              "  1,\n",
              "  1,\n",
              "  1,\n",
              "  1,\n",
              "  1,\n",
              "  1,\n",
              "  1,\n",
              "  1,\n",
              "  1,\n",
              "  1,\n",
              "  1,\n",
              "  1,\n",
              "  1,\n",
              "  1,\n",
              "  1,\n",
              "  1,\n",
              "  1,\n",
              "  1,\n",
              "  1,\n",
              "  1,\n",
              "  1,\n",
              "  1,\n",
              "  1,\n",
              "  1,\n",
              "  1,\n",
              "  1,\n",
              "  1,\n",
              "  1,\n",
              "  1,\n",
              "  1,\n",
              "  1]}"
            ]
          },
          "metadata": {},
          "execution_count": 27
        }
      ]
    },
    {
      "cell_type": "markdown",
      "source": [
        "💡 To speed up tokenization with streaming you can pass batched=True, as we saw in the last section. It will process the examples batch by batch; the default batch size is 1,000 and can be specified with the batch_size argument."
      ],
      "metadata": {
        "id": "T8up8x2UshtS"
      }
    },
    {
      "cell_type": "code",
      "source": [
        "shuffled_dataset = dataset.shuffle(buffer_size=100, seed=42)\n",
        "next(iter(shuffled_dataset))"
      ],
      "metadata": {
        "id": "8yak8hPYrieO",
        "outputId": "7bcfa9e9-1e58-4b11-d220-0f1dead8e12a",
        "colab": {
          "base_uri": "https://localhost:8080/"
        }
      },
      "execution_count": 28,
      "outputs": [
        {
          "output_type": "execute_result",
          "data": {
            "text/plain": [
              "{'id': 8,\n",
              " 'text': \"Ons blog bestaan om God alle eer te gee. Ons wil vroue wees wat lewe volgens God se riglyne in Sy woord. Ons wil vir mekaar getuig van God se seen en van Sy voorskrifte. Op so 'n manier wil ons ‘n ondersteuning netwerk vorm van vroue vir vroue om mekaar te bemoedig, versterk en op te skerp in die volmaakte wil van God vir ons lewens en gesinne.\\nDie komitee bestaan uit 5 vroue wat aktief lid is van die bespreking groep. Elke 6 maande word 'n nuwe komitee saamgestel.\"}"
            ]
          },
          "metadata": {},
          "execution_count": 28
        }
      ]
    },
    {
      "cell_type": "markdown",
      "source": [
        "In this example, we selected a random example from the first 100 examples in the buffer. Once an example is accessed, its spot in the buffer is filled with the next example in the corpus (i.e., the 101st example in the case above). You can also select elements from a streamed dataset using the IterableDataset.take() and IterableDataset.skip() functions, which act in a similar way to Dataset.select(). For example, to select the first 5 examples in the PubMed Abstracts dataset we can do the following:"
      ],
      "metadata": {
        "id": "XpEY0GpKs6hS"
      }
    },
    {
      "cell_type": "code",
      "source": [
        "dataset_head = dataset.take(5)\n",
        "list(dataset_head)"
      ],
      "metadata": {
        "id": "2zGa4dJis8FO",
        "outputId": "2067aefb-1c95-46ae-bd7b-e3a6310d2c08",
        "colab": {
          "base_uri": "https://localhost:8080/"
        }
      },
      "execution_count": 31,
      "outputs": [
        {
          "output_type": "execute_result",
          "data": {
            "text/plain": [
              "[{'id': 0,\n",
              "  'text': \"aanlyn markte as gevolg van ons voortgesette 'n begrip opsie handel sakeplan pdf terwyl ons steeds die gereelde ons binêre opsies handel\"},\n",
              " {'id': 1,\n",
              "  'text': 'Die ekonomiese posisie van die Asiaat in Suid-Afrika en enkele ander gebiede in Afrika 3 2 1 0 1 0 0'},\n",
              " {'id': 2,\n",
              "  'text': 'Nadat dit duidelik geword het dat die Regering die aangeleentheid nie verder sou voer nie, het die Volksraad die ANC-regering se miskenning van internasionaal-aanvaarde regte en verpligtinge en die vergrype teen ons volk, onder die aandag van die internasionale gemeenskap gebring.'},\n",
              " {'id': 3,\n",
              "  'text': \"Liefste Alicia, Graag wil ek jou uit my hart bedank dat jy my in 'n prinsessie omtower het! Asook die meisies wat jou gehelp het. Jy het die dag ekstra spesiaal gemaak deur jou sagte persoonlikheid, jou perfekte timing, jou glimlag en jou opgewondenheid vir ons sprokiesdag, dankie dat jy kon deel wees van ons mooiste dag! Groete, Nadia\"},\n",
              " {'id': 4,\n",
              "  'text': \"En Ek sal jou die sleutels van die koninkryk van die hemele gee; en wat jy ook op die aarde mag bind, sal in die hemel gebonde wees, en wat jy ook op die aarde mag ontbind, sal in die hemel ontbonde wees. (Matteus 16:19 AFR53)\\nDit is die betekenis daarvan dat die Here vir sy kerk sê dat Hy aan hulle die sleutels van die hemel gee, en dat hulle op die aarde moet oopsluit en toesluit.\\nDie kerk het 'n verantwoodelikheid van die Here ontvang om die evangelie van die Here Jesus te verkondig. Dit is nie 'n oordeelsverantwoordelikheid nie!\\nDit is ook nie die kerkraad wat oor hierdie dinge besluit nie. Jesus Christus is die Koning van die kerk - Hy besluit wat en hoe dinge in die kerk moet gebeur.\\nDie ouderlinge tree op op sy bevel, m.a.w elke besluit wat hulle neem moet volgens die Bybel wees oor die bepaalde saak.\\nDaarom leer en vermaan die Here Jesus ons voortdurend deur die verkondiging van sy Woord. Hy leer ons in die Bybel dat Hy baie vertoorn word oor mense wat volhard in die sonde.\\nDie prediking sluit vir mense die hemelryk oop deur hulle die verlossing in die Here Jesus te leer, en aanhoudend aan hulle te verkondig. Mense wat die verkondiging van God se genade hoor, word deur die Heilige Gees tot bekering gebring, sodat hulle dan glo.\\nDie toesluit in die prediking bestaan daarin dat alle mense dadelik al uit God se Woord geleer word dat hulle 'n bepaalde verantwoordelikheid het teenoor die Here.\\nDie Here ban almal wat teen Hom rebelleer uit sy koninkryk uit; die duiwel en sy uitwerping is hiervan 'n voorbeeld.\\nDie Here verkondig sy genade nie net in elke preek nie. Hy doen dit ook nog sigbaar deur die bediening van die sakramente. Daar hoor en sien en proe jy van die genade van die Here oor jou.\\nMaar die onordelike mag nie daaraan deelneem nie. Hy moet voel en beleef wat die gevolge daarvan is dat hy die Here verwerp het, sodat dit hom tot bekering kan beweeg.\\nAs iemand aan sy lyf voel hoe sleg dit is om soos 'n onregverdige behandel te word, sal dit hom laat besef wat die liefde van God vir hom werd is.\\nHy maak daarmee heeltemal fisies duidelik dat mense wat sy liefde vertrap nie dieselfde voorregte kan geniet as die wat die Here liefhet nie.\\nHierdie tughandeling kom die duidelikste na vore rondom die bediening van die Nagmaal. Daar is van tyd tot tyd mense in die kerk wat soos ongelowiges lewe.\\nDie Here moet geëer word. Almal wat wil lidmate van die kerk wees, moet saamdoen aan hierdie verering van die Here ‑ soos Hy dit voorskryf natuurlik.\\nDie tug gaan dus in die heel eerste plek oor die eer van God. Dit is tog logies dat die eer van God ook die eer van sy kerk insluit.\\nSulke mense is vir die Here 'n ergernis, want hulle bring die eer van God en die aanbidding van die ander kerkgenote in gedrang.\\nNou moet u tog net nie die indruk kry dat die tug 'n besem is wat die kerkraad kan gebruik om almal van wie hulle nie hou nie, uit die kerk uit te vee nie.\\nPrakties werk dit so dat die kerkraad die lidmaat gaan besoek en met hom praat om hom te beweeg om afstand te doen van die dinge wat nie die heiligheid van God bevorder nie.\\nDie sondaar kan moontlik hulp nodig hê om sy probleem te oorkom, en dan het hy die reg om die hulp van die kerkraad in die saak te vra. Maar die eindpunt moet ware bekering wees.\\nHy wat in Hom glo, word nie veroordeel nie; maar hy wat nie glo nie, is alreeds veroordeel omdat hy nie geglo het in die Naam van die eniggebore Seun van God nie. En dit is die oordeel: dat die lig in die wêreld gekom het, en die mense het die duisternis liewer gehad as die lig; want hulle werke was boos. (Johannes 3:18, 19 AFR53)\\nKom ons ondersoek onsself, en kyk of ons die vrede van die ewige lewe in ons hart ervaar, en die wil het om die Here van harte te dien. Dan is ons tuis in die gemeente en in die huisgesin van die Here.\\nAntwoord: Die verkondiging van die heilige evangelie en die Christelike tug. Met albei hierdie handelinge word die koninkryk van die hemel vir die gelowiges oopgesluit en vir die ongelowiges toegesluit.\\nVraag 84: Hoe word die koninkryk van die hemel deur die verkondiging van die heilige evangelie oop- en toegesluit?\\nAntwoord: Volgens die bevel van Christus word aan die gelowiges gesamentlik en afsonderlik verkondig en openlik betuig dat al hulle sondes hulle waarlik deur God ter wille van die verdienste van Christus vergewe is so dikwels as wat hulle die belofte van die evangelie met 'n ware geloof aanneem. Daarenteen word aan al die ongelowiges en huigelaars verkondig dat die toorn van God en die ewige verdoemenis op hulle rus solank hulle hulle nie bekeer nie (a). Volgens hierdie getuienis van die evangelie sal God sowel in hierdie as in die toekomstige lewe oordeel.\\nAntwoord: Volgens die bevel van Christus word die wat die naam Christen dra en tog 'n onchristelike leer huldig of hulle onchristelik gedra eers herhaalde kere broederlik vermaan. As hulle egter nie van hulle dwalinge of skandelike lewe wil afsien nie, moet dit aan die gemeente of aan die wat deur die gemeente daarvoor aangewys is, gesê word. As hulle hulle ook nie aan laasgenoemde se vermaninge steur nie, word hulle nie langer tot die heilige sakramente toegelaat nie en uit die Christelike gemeente en deur God self uit die ryk van Christus uitgesluit. Hulle word weer as lede van Christus en sy gemeente aangeneem wanneer hulle werklike verbetering beloof en bewys (a).\"}]"
            ]
          },
          "metadata": {},
          "execution_count": 31
        }
      ]
    },
    {
      "cell_type": "code",
      "source": [
        "# Skip the first 1,000 examples and include the rest in the training set\n",
        "train_dataset = dataset.skip(1000)\n",
        "# Take the first 1,000 examples for the validation set\n",
        "validation_dataset = dataset.take(1000)"
      ],
      "metadata": {
        "id": "P4R5qeEHtKqB"
      },
      "execution_count": 32,
      "outputs": []
    },
    {
      "cell_type": "code",
      "source": [],
      "metadata": {
        "id": "dqkB4IhvtSP4"
      },
      "execution_count": null,
      "outputs": []
    }
  ],
  "metadata": {
    "colab": {
      "name": "Big data? 🤗 Datasets to the rescue!",
      "provenance": [],
      "gpuType": "T4",
      "include_colab_link": true
    },
    "language_info": {
      "name": "python"
    },
    "kernelspec": {
      "name": "python3",
      "display_name": "Python 3"
    },
    "accelerator": "GPU"
  },
  "nbformat": 4,
  "nbformat_minor": 0
}